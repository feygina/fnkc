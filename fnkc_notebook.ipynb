{
 "cells": [
  {
   "cell_type": "code",
   "execution_count": 1,
   "metadata": {
    "collapsed": true
   },
   "outputs": [],
   "source": [
    "%matplotlib inline\n",
    "import numpy as np\n",
    "import pandas as pd\n",
    "from sklearn import cross_validation\n",
    "from sklearn.feature_extraction import DictVectorizer as DV\n",
    "import matplotlib.pyplot as plt\n",
    "from sklearn import svm, datasets"
   ]
  },
  {
   "cell_type": "code",
   "execution_count": 2,
   "metadata": {
    "collapsed": false
   },
   "outputs": [
    {
     "data": {
      "text/html": [
       "<div>\n",
       "<table border=\"1\" class=\"dataframe\">\n",
       "  <thead>\n",
       "    <tr style=\"text-align: right;\">\n",
       "      <th></th>\n",
       "      <th>ID</th>\n",
       "      <th>Sex</th>\n",
       "      <th>Immun</th>\n",
       "      <th>CNS</th>\n",
       "      <th>Mediastinum</th>\n",
       "      <th>Age</th>\n",
       "      <th>Leuc</th>\n",
       "      <th>Leber</th>\n",
       "      <th>Milz</th>\n",
       "      <th>Zytogen</th>\n",
       "      <th>Region</th>\n",
       "      <th>Geb_month</th>\n",
       "      <th>Diag_month</th>\n",
       "      <th>height</th>\n",
       "      <th>weight</th>\n",
       "      <th>syndrome</th>\n",
       "      <th>Better</th>\n",
       "    </tr>\n",
       "  </thead>\n",
       "  <tbody>\n",
       "    <tr>\n",
       "      <th>0</th>\n",
       "      <td>200</td>\n",
       "      <td>2</td>\n",
       "      <td>2</td>\n",
       "      <td>0</td>\n",
       "      <td>1</td>\n",
       "      <td>2.664002</td>\n",
       "      <td>4.4</td>\n",
       "      <td>2.5</td>\n",
       "      <td>0</td>\n",
       "      <td>1</td>\n",
       "      <td>42</td>\n",
       "      <td>7</td>\n",
       "      <td>1</td>\n",
       "      <td>90</td>\n",
       "      <td>13.8</td>\n",
       "      <td>0</td>\n",
       "      <td>100</td>\n",
       "    </tr>\n",
       "    <tr>\n",
       "      <th>1</th>\n",
       "      <td>210</td>\n",
       "      <td>1</td>\n",
       "      <td>2</td>\n",
       "      <td>0</td>\n",
       "      <td>1</td>\n",
       "      <td>4.394371</td>\n",
       "      <td>14.0</td>\n",
       "      <td>2.5</td>\n",
       "      <td>3</td>\n",
       "      <td>1221</td>\n",
       "      <td>104</td>\n",
       "      <td>11</td>\n",
       "      <td>1</td>\n",
       "      <td>114</td>\n",
       "      <td>18.5</td>\n",
       "      <td>0</td>\n",
       "      <td>100</td>\n",
       "    </tr>\n",
       "    <tr>\n",
       "      <th>2</th>\n",
       "      <td>500</td>\n",
       "      <td>2</td>\n",
       "      <td>13</td>\n",
       "      <td>0</td>\n",
       "      <td>1</td>\n",
       "      <td>6.880407</td>\n",
       "      <td>4.5</td>\n",
       "      <td>0.0</td>\n",
       "      <td>0</td>\n",
       "      <td>1</td>\n",
       "      <td>15</td>\n",
       "      <td>6</td>\n",
       "      <td>1</td>\n",
       "      <td>115</td>\n",
       "      <td>18.0</td>\n",
       "      <td>0</td>\n",
       "      <td>100</td>\n",
       "    </tr>\n",
       "    <tr>\n",
       "      <th>3</th>\n",
       "      <td>550</td>\n",
       "      <td>2</td>\n",
       "      <td>1</td>\n",
       "      <td>0</td>\n",
       "      <td>1</td>\n",
       "      <td>12.315190</td>\n",
       "      <td>2.8</td>\n",
       "      <td>4.0</td>\n",
       "      <td>0</td>\n",
       "      <td>1</td>\n",
       "      <td>26</td>\n",
       "      <td>1</td>\n",
       "      <td>1</td>\n",
       "      <td>46</td>\n",
       "      <td>157.0</td>\n",
       "      <td>0</td>\n",
       "      <td>0</td>\n",
       "    </tr>\n",
       "    <tr>\n",
       "      <th>4</th>\n",
       "      <td>560</td>\n",
       "      <td>1</td>\n",
       "      <td>2</td>\n",
       "      <td>0</td>\n",
       "      <td>1</td>\n",
       "      <td>2.611981</td>\n",
       "      <td>11.6</td>\n",
       "      <td>4.0</td>\n",
       "      <td>3</td>\n",
       "      <td>1</td>\n",
       "      <td>104</td>\n",
       "      <td>9</td>\n",
       "      <td>1</td>\n",
       "      <td>94</td>\n",
       "      <td>12.8</td>\n",
       "      <td>0</td>\n",
       "      <td>100</td>\n",
       "    </tr>\n",
       "  </tbody>\n",
       "</table>\n",
       "</div>"
      ],
      "text/plain": [
       "    ID  Sex  Immun  CNS  Mediastinum        Age  Leuc  Leber  Milz  Zytogen  \\\n",
       "0  200    2      2    0            1   2.664002   4.4    2.5     0        1   \n",
       "1  210    1      2    0            1   4.394371  14.0    2.5     3     1221   \n",
       "2  500    2     13    0            1   6.880407   4.5    0.0     0        1   \n",
       "3  550    2      1    0            1  12.315190   2.8    4.0     0        1   \n",
       "4  560    1      2    0            1   2.611981  11.6    4.0     3        1   \n",
       "\n",
       "   Region  Geb_month  Diag_month  height  weight  syndrome  Better  \n",
       "0      42          7           1      90    13.8         0     100  \n",
       "1     104         11           1     114    18.5         0     100  \n",
       "2      15          6           1     115    18.0         0     100  \n",
       "3      26          1           1      46   157.0         0       0  \n",
       "4     104          9           1      94    12.8         0     100  "
      ]
     },
     "execution_count": 2,
     "metadata": {},
     "output_type": "execute_result"
    }
   ],
   "source": [
    "df = pd.read_csv('2008_100_300.csv', sep=',')\n",
    "df.head()"
   ]
  },
  {
   "cell_type": "markdown",
   "metadata": {},
   "source": [
    "ID - Идентификационный номер пациента\n",
    "Sex, Immun, CNS, Mediastinum, Zytogen, Region, Geb_month, Diag_month, syndrome - категориальные признаки\n",
    "Age, Leuc, Leber, Milz, height, weight - количественные\n",
    "Better - какое из двух видов лечения лучше. Если 0, значит, нельзя сказать, какое лучше.\n",
    "\n",
    "Более подробно:\n",
    "    Sex - пол (1-мужской, 2 - женский)\n",
    "    Immun - имуннофенотип в закодированном виде\n",
    "    CNS - статус центральной нервной системы(0 - не поражена, другое - разные варианты поражения)\n",
    "    Mediastinum - аналогично CNS, но только для средостения\n",
    "    Zytogen - наличие генетического нарушения (0 - нет, другое - код нарушения)\n",
    "    Region - код региона, в котором пациент проходит лечение\n",
    "    Geb_month - месяц  рождения пациента\n",
    "    Diag_motnh - месяц постановки диагноза\n",
    "    syndrome - наличия синдрома Дауна\n",
    "    Age - возраст\n",
    "    Leuc - число лейкоцитов в крови\n",
    "    Leber - пальпируемый размер выступа печени из-под реберной дуги\n",
    "    Milz - аналогично Leber для селезенки\n",
    "    height, weight - рост, вес на момент постановки диагноза соответственно.\n"
   ]
  },
  {
   "cell_type": "markdown",
   "metadata": {},
   "source": [
    "replace all nan values in column Zytogen with 1."
   ]
  },
  {
   "cell_type": "code",
   "execution_count": 3,
   "metadata": {
    "collapsed": true
   },
   "outputs": [],
   "source": [
    "df['Zytogen'].fillna(1, inplace=True)"
   ]
  },
  {
   "cell_type": "markdown",
   "metadata": {},
   "source": [
    "replace all nan values in column Region with 77."
   ]
  },
  {
   "cell_type": "code",
   "execution_count": 4,
   "metadata": {
    "collapsed": true
   },
   "outputs": [],
   "source": [
    "df['Region'].fillna(77, inplace=True)"
   ]
  },
  {
   "cell_type": "markdown",
   "metadata": {},
   "source": [
    "import data without nan to csv"
   ]
  },
  {
   "cell_type": "code",
   "execution_count": 5,
   "metadata": {
    "collapsed": true
   },
   "outputs": [],
   "source": [
    "df.to_csv('fnkc_without_nan.csv', sep=',', mode='w')"
   ]
  },
  {
   "cell_type": "markdown",
   "metadata": {},
   "source": [
    "Converting categorical data into numbers"
   ]
  },
  {
   "cell_type": "code",
   "execution_count": 6,
   "metadata": {
    "collapsed": true
   },
   "outputs": [],
   "source": [
    "df_new_type = df\n",
    "df_new_type = df_new_type.drop('ID', axis=1)\n",
    "df_new_type['Age'] = pd.cut(df['Age'], 8, labels=[1, 2, 3, 4, 5, 6, 7, 8])\n",
    "df_new_type['Leuc'] = pd.cut(df['Leuc'], 2, labels=[1, 2])\n",
    "df_new_type['Leber'] = pd.cut(df['Leber'], 2, labels=[1, 2])\n",
    "df_new_type['weight'] = pd.cut(df['weight'], 3, labels=[1, 2, 3])\n",
    "df_new_type['height'] = pd.cut(df['height'], 3, labels=[1, 2, 3])"
   ]
  },
  {
   "cell_type": "code",
   "execution_count": 7,
   "metadata": {
    "collapsed": true
   },
   "outputs": [],
   "source": [
    "target = df_new_type.ix[:, [-1]]\n",
    "df_new_type = df_new_type.drop('Better', axis=1)\n",
    "column_names = df_new_type.columns.values\n",
    "for col in column_names:\n",
    "    df_new_type[col] = df_new_type[col].astype('category')\n",
    "df_binary = pd.get_dummies(df_new_type)\n",
    "df_binary['Better'] = pd.Series(target.values[:, 0], index=df_binary.index)\n",
    "df_binary.to_csv('fnkc_binary.csv', sep=',', mode='w')"
   ]
  },
  {
   "cell_type": "markdown",
   "metadata": {},
   "source": [
    "Divide data into two groups: test and train"
   ]
  },
  {
   "cell_type": "code",
   "execution_count": 8,
   "metadata": {
    "collapsed": true
   },
   "outputs": [],
   "source": [
    "test_df = df_binary.loc[df['Better'] == 0]\n",
    "train_df = df_binary.loc[df['Better'] != 0]"
   ]
  },
  {
   "cell_type": "markdown",
   "metadata": {},
   "source": [
    "features that will be used for training:"
   ]
  },
  {
   "cell_type": "code",
   "execution_count": 9,
   "metadata": {
    "collapsed": true
   },
   "outputs": [],
   "source": [
    "x = train_df.iloc[:, 0:20].values"
   ]
  },
  {
   "cell_type": "markdown",
   "metadata": {},
   "source": [
    "target classes:"
   ]
  },
  {
   "cell_type": "code",
   "execution_count": 10,
   "metadata": {
    "collapsed": true
   },
   "outputs": [],
   "source": [
    "y = train_df.values[:, -1]"
   ]
  },
  {
   "cell_type": "markdown",
   "metadata": {},
   "source": [
    "train model"
   ]
  },
  {
   "cell_type": "code",
   "execution_count": 11,
   "metadata": {
    "collapsed": true
   },
   "outputs": [],
   "source": [
    "clf = svm.SVC(kernel='rbf', gamma=0.7, C=1)"
   ]
  },
  {
   "cell_type": "markdown",
   "metadata": {},
   "source": [
    "cross_val_score"
   ]
  },
  {
   "cell_type": "code",
   "execution_count": 12,
   "metadata": {
    "collapsed": true
   },
   "outputs": [],
   "source": [
    "scores = cross_validation.cross_val_score(clf, x, y, cv=10)"
   ]
  },
  {
   "cell_type": "code",
   "execution_count": 13,
   "metadata": {
    "collapsed": false
   },
   "outputs": [
    {
     "data": {
      "text/plain": [
       "0.80436314740112214"
      ]
     },
     "execution_count": 13,
     "metadata": {},
     "output_type": "execute_result"
    }
   ],
   "source": [
    "np.mean(scores)"
   ]
  },
  {
   "cell_type": "markdown",
   "metadata": {},
   "source": [
    "train model again"
   ]
  },
  {
   "cell_type": "code",
   "execution_count": 14,
   "metadata": {
    "collapsed": false
   },
   "outputs": [
    {
     "data": {
      "text/plain": [
       "SVC(C=1, cache_size=200, class_weight=None, coef0=0.0,\n",
       "  decision_function_shape=None, degree=3, gamma=0.7, kernel='rbf',\n",
       "  max_iter=-1, probability=False, random_state=None, shrinking=True,\n",
       "  tol=0.001, verbose=False)"
      ]
     },
     "execution_count": 14,
     "metadata": {},
     "output_type": "execute_result"
    }
   ],
   "source": [
    "clf.fit(x, y)"
   ]
  },
  {
   "cell_type": "markdown",
   "metadata": {},
   "source": [
    "test features"
   ]
  },
  {
   "cell_type": "code",
   "execution_count": 15,
   "metadata": {
    "collapsed": true
   },
   "outputs": [],
   "source": [
    "features = train_df.iloc[:, 0:20].values"
   ]
  },
  {
   "cell_type": "code",
   "execution_count": 16,
   "metadata": {
    "collapsed": false
   },
   "outputs": [
    {
     "data": {
      "text/plain": [
       "array([ 100.,  100.,  100.,  100.,  100.,  100.,  100.,  100.,  300.,\n",
       "        100.,  100.,  300.,  100.,  100.,  100.,  100.,  300.,  100.,\n",
       "        100.,  100.,  100.,  100.,  100.,  300.,  100.,  100.,  100.,\n",
       "        100.,  100.,  100.,  100.,  100.,  100.,  100.,  300.,  100.,\n",
       "        100.,  100.,  100.,  100.,  100.,  100.,  100.,  100.,  100.,\n",
       "        100.,  100.,  100.,  100.,  100.,  100.,  300.,  100.,  100.,\n",
       "        100.,  100.,  100.,  100.,  100.,  100.,  100.,  100.,  100.,\n",
       "        100.,  100.,  100.,  100.,  100.,  100.,  100.,  100.,  100.,\n",
       "        100.,  300.,  300.,  100.,  100.,  100.,  100.,  100.,  100.,\n",
       "        100.,  100.,  100.,  100.,  100.,  100.,  100.,  100.,  100.,\n",
       "        100.,  100.,  100.,  100.,  100.,  100.,  100.,  100.,  100.,\n",
       "        100.,  100.,  100.,  100.,  100.,  100.,  100.,  300.,  100.,\n",
       "        100.,  100.,  100.,  100.,  300.,  100.,  100.,  100.,  100.,\n",
       "        100.,  100.,  100.,  100.,  100.,  100.,  100.,  100.,  100.,\n",
       "        300.,  100.,  100.,  100.,  100.,  100.,  100.,  100.,  100.,\n",
       "        100.,  100.,  100.,  100.,  100.,  300.,  300.,  100.,  100.,\n",
       "        100.,  100.,  100.,  100.,  100.,  100.,  100.,  100.,  100.,\n",
       "        100.,  100.,  100.,  100.,  100.,  100.,  100.,  100.,  100.,\n",
       "        100.,  100.,  300.,  100.,  100.,  100.,  100.,  100.,  300.,\n",
       "        100.,  100.,  100.,  100.,  100.,  100.,  100.,  300.,  100.,\n",
       "        100.,  100.,  100.,  100.,  100.,  100.,  100.,  100.,  100.,\n",
       "        100.,  100.,  300.,  100.,  100.,  100.,  100.,  300.,  100.,\n",
       "        100.,  100.,  100.,  100.,  100.,  100.,  100.,  100.,  100.,\n",
       "        100.,  300.,  100.,  100.,  100.,  100.,  100.,  300.,  100.,\n",
       "        100.,  100.,  100.,  100.,  100.,  300.,  100.,  100.,  100.,\n",
       "        300.,  100.,  100.,  100.,  100.,  100.,  100.,  100.,  100.,\n",
       "        100.,  100.,  100.,  100.,  100.,  100.,  100.,  100.,  100.,\n",
       "        100.,  100.,  100.,  100.,  100.,  100.,  100.,  100.,  100.,\n",
       "        100.,  100.,  100.,  100.,  100.,  300.,  100.,  100.,  100.,\n",
       "        100.,  100.,  100.,  100.,  100.,  100.,  100.,  100.,  300.,\n",
       "        100.,  100.,  100.,  100.,  300.,  100.,  100.,  100.,  300.,\n",
       "        100.,  100.,  300.,  100.,  300.,  100.,  100.,  100.,  100.,\n",
       "        100.,  100.,  100.,  100.,  300.,  300.,  100.,  100.,  100.,\n",
       "        100.,  100.,  300.,  300.,  100.,  300.,  100.,  300.,  100.,\n",
       "        100.,  300.,  100.,  100.,  100.,  100.,  100.,  100.,  100.,\n",
       "        100.,  100.,  300.,  100.,  100.,  100.,  100.,  300.,  100.,\n",
       "        100.,  100.,  100.,  100.,  100.,  100.,  100.,  100.,  100.,\n",
       "        100.,  100.,  100.,  100.,  100.,  100.,  100.,  300.,  100.,\n",
       "        100.,  100.,  100.,  100.,  100.,  100.,  100.,  100.,  100.,\n",
       "        100.,  100.,  100.,  100.,  100.,  100.,  100.,  100.,  100.,\n",
       "        100.,  100.,  100.,  100.,  100.,  100.,  100.,  100.,  100.,\n",
       "        100.,  100.,  100.,  100.,  100.,  100.,  100.,  100.,  100.,\n",
       "        100.,  100.,  100.,  100.,  100.,  100.,  100.,  100.,  100.,\n",
       "        100.,  100.,  100.,  100.,  100.,  100.,  100.,  300.,  100.,\n",
       "        100.,  100.,  100.,  100.,  100.,  100.,  100.,  100.,  100.,\n",
       "        300.,  100.,  100.,  300.,  100.,  100.,  100.,  100.,  100.,\n",
       "        100.,  100.,  100.,  100.,  100.,  100.,  100.,  100.,  100.,\n",
       "        100.,  100.,  100.,  100.,  100.,  100.,  100.,  100.,  100.,\n",
       "        100.,  100.,  100.,  100.,  100.,  100.,  100.,  300.,  100.,\n",
       "        100.,  100.,  100.,  100.,  100.,  300.,  100.,  100.,  100.,\n",
       "        100.,  300.,  100.,  100.,  100.,  300.,  100.,  100.,  100.,\n",
       "        100.,  100.,  100.,  100.,  100.,  100.,  100.,  100.,  100.,\n",
       "        300.,  100.,  100.,  100.,  100.,  100.,  100.,  100.,  100.,\n",
       "        100.,  100.,  100.,  100.,  100.,  100.,  100.,  300.,  100.,\n",
       "        100.,  100.,  100.,  100.,  300.,  100.,  100.,  100.,  100.,\n",
       "        100.,  100.,  100.,  100.,  300.,  100.,  100.,  100.,  100.,\n",
       "        100.,  100.,  300.,  100.,  100.,  100.,  100.,  100.,  100.,\n",
       "        100.,  100.,  100.,  100.,  100.,  100.,  100.,  100.,  100.,\n",
       "        300.,  100.,  100.,  100.,  100.,  100.,  100.,  300.,  100.,\n",
       "        100.,  300.,  100.,  100.,  100.,  100.,  100.,  100.,  100.,\n",
       "        100.,  100.,  100.,  100.,  100.,  100.,  100.,  100.,  100.,\n",
       "        100.,  100.,  100.,  100.,  100.,  100.,  100.,  100.,  100.,\n",
       "        100.,  100.,  300.,  100.,  100.,  100.,  100.,  100.,  300.,\n",
       "        100.,  100.,  100.,  100.,  100.,  100.,  100.,  100.,  100.,\n",
       "        100.,  100.,  100.,  100.,  100.,  100.,  100.,  100.,  100.,\n",
       "        100.,  100.,  100.,  100.,  100.,  100.,  100.,  100.,  300.,\n",
       "        100.,  100.,  100.,  100.,  100.,  100.,  100.,  100.,  100.,\n",
       "        100.,  300.,  100.,  100.,  100.,  100.,  100.,  100.,  100.,\n",
       "        100.,  100.,  100.,  100.,  100.,  100.,  100.,  100.,  100.,\n",
       "        100.,  100.,  100.,  300.,  100.,  100.,  100.,  100.,  100.,\n",
       "        100.,  100.,  100.,  100.,  100.,  100.,  100.,  100.,  100.,\n",
       "        100.,  100.,  300.,  100.,  100.,  100.,  100.,  100.,  100.,\n",
       "        100.,  300.,  100.,  100.,  100.,  100.,  100.,  300.,  100.,\n",
       "        100.,  100.,  100.,  100.,  100.,  300.,  100.,  100.,  100.,\n",
       "        100.,  100.,  100.,  100.,  300.,  100.,  100.,  100.,  100.,\n",
       "        100.,  100.,  100.,  300.,  100.,  100.,  300.,  100.,  300.,\n",
       "        300.,  100.,  100.,  100.,  100.,  300.,  100.,  100.,  100.,\n",
       "        300.,  300.,  100.,  100.,  100.,  100.,  100.,  100.,  100.,\n",
       "        100.,  100.,  100.,  100.,  100.,  300.,  100.,  300.,  100.,\n",
       "        100.,  100.,  100.,  100.,  100.,  100.,  100.,  100.,  100.,\n",
       "        100.,  100.,  300.,  100.,  100.,  300.,  100.,  100.,  100.,\n",
       "        100.,  100.,  100.,  100.,  100.,  100.,  100.,  100.,  100.,\n",
       "        100.,  100.,  100.,  100.,  300.,  300.,  100.,  100.,  100.,\n",
       "        300.,  100.,  100.,  100.,  100.,  100.,  300.,  100.,  300.,\n",
       "        100.,  100.,  100.,  100.,  300.,  100.,  100.,  100.,  100.,\n",
       "        100.,  100.,  100.,  100.,  300.,  100.,  300.,  100.,  100.,\n",
       "        100.,  100.,  100.,  100.,  100.,  100.,  300.,  100.])"
      ]
     },
     "execution_count": 16,
     "metadata": {},
     "output_type": "execute_result"
    }
   ],
   "source": [
    "prediction = clf.predict(features)\n",
    "prediction"
   ]
  }
 ],
 "metadata": {
  "kernelspec": {
   "display_name": "Python 2",
   "language": "python",
   "name": "python2"
  },
  "language_info": {
   "codemirror_mode": {
    "name": "ipython",
    "version": 2
   },
   "file_extension": ".py",
   "mimetype": "text/x-python",
   "name": "python",
   "nbconvert_exporter": "python",
   "pygments_lexer": "ipython2",
   "version": "2.7.10"
  }
 },
 "nbformat": 4,
 "nbformat_minor": 0
}
